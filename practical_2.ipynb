{
  "nbformat": 4,
  "nbformat_minor": 0,
  "metadata": {
    "colab": {
      "provenance": [],
      "authorship_tag": "ABX9TyMuZeZAb8U1hKI0uxeLZF6p",
      "include_colab_link": true
    },
    "kernelspec": {
      "name": "python3",
      "display_name": "Python 3"
    },
    "language_info": {
      "name": "python"
    }
  },
  "cells": [
    {
      "cell_type": "markdown",
      "metadata": {
        "id": "view-in-github",
        "colab_type": "text"
      },
      "source": [
        "<a href=\"https://colab.research.google.com/github/vikashkr96/AI-and-ML-Practices/blob/main/practical_2.ipynb\" target=\"_parent\"><img src=\"https://colab.research.google.com/assets/colab-badge.svg\" alt=\"Open In Colab\"/></a>"
      ]
    },
    {
      "cell_type": "markdown",
      "source": [
        "#**Calculating Mean:**\n",
        "\n",
        "It is defined as sum of total numbers divided by total count."
      ],
      "metadata": {
        "id": "pi0MDttCFRyh"
      }
    },
    {
      "cell_type": "code",
      "source": [
        "arr = [23, 45, 76, 56, 34, 96, 67, 90]\n",
        "\n",
        "length = len(arr)\n",
        "sum = 0\n",
        "for nums in arr:\n",
        "  sum += nums\n",
        "print(f\"Mean of all the elements of the list is : {sum/length}\")\n"
      ],
      "metadata": {
        "colab": {
          "base_uri": "https://localhost:8080/",
          "height": 0
        },
        "id": "aUURL8HxGUVS",
        "outputId": "88c28885-a7e8-489c-aefd-1783ec4c47d3"
      },
      "execution_count": 7,
      "outputs": [
        {
          "output_type": "stream",
          "name": "stdout",
          "text": [
            "Mean of all the elements of the list is : 60.875\n"
          ]
        }
      ]
    },
    {
      "cell_type": "markdown",
      "source": [
        "#**Calculating Median:**\n",
        "\n",
        "Median is the middle value of a data set when it is arranged in ascending or descending order; if there is an odd number of values, it's the middle one, and if even, it's the average of the two middle."
      ],
      "metadata": {
        "id": "kJYzCrlHHnWn"
      }
    },
    {
      "cell_type": "code",
      "source": [
        "arr = [23, 45, 76, 56, 34, 96, 67, 90]\n",
        "\n",
        "sorted_arr = sorted(arr)\n",
        "print(f\"The sorted array is : {sorted_arr}\")\n",
        "n = len(sorted_arr)\n",
        "\n",
        "if n%2 == 0:\n",
        "  middle_1 = sorted_arr[n//2 - 1]\n",
        "  middle_2 = sorted_arr[n//2]\n",
        "\n",
        "  median = (middle_1 + middle_2)/2\n",
        "\n",
        "else:\n",
        "  median = sorted_arr[n/2]\n",
        "\n",
        "print(f\"The Median of the elements of the given array is : {median}\")\n",
        "\n"
      ],
      "metadata": {
        "colab": {
          "base_uri": "https://localhost:8080/",
          "height": 0
        },
        "id": "2PsFL7thHg89",
        "outputId": "ad76aa82-f48d-4385-9876-4aa8162f889e"
      },
      "execution_count": 13,
      "outputs": [
        {
          "output_type": "stream",
          "name": "stdout",
          "text": [
            "The sorted array is : [23, 34, 45, 56, 67, 76, 90, 96]\n",
            "The Median of the elements of the given array is : 61.5\n"
          ]
        }
      ]
    },
    {
      "cell_type": "markdown",
      "source": [
        "#**Calculating Mode:**\n",
        "\n",
        "Mode is the value that appears most frequently in a data set."
      ],
      "metadata": {
        "id": "rWQHZoMZK8oX"
      }
    },
    {
      "cell_type": "code",
      "source": [
        "data = [1, 2, 2, 3, 4, 4, 4, 5]\n",
        "\n",
        "frequency = {}\n",
        "\n",
        "# Counting the frequency of each element\n",
        "for number in data:\n",
        "    if number in frequency:\n",
        "        frequency[number] += 1\n",
        "    else:\n",
        "        frequency[number] = 1\n",
        "\n",
        "# Finding the maximum frequency\n",
        "max_count = max(frequency.values())\n",
        "\n",
        "# Initializing an empty list to store modes\n",
        "modes = []\n",
        "\n",
        "# Finding all elements with the maximum frequency\n",
        "for key, count in frequency.items():\n",
        "    if count == max_count:\n",
        "        modes.append(key)\n",
        "\n",
        "print(\"The modes of the array are:\", modes)\n"
      ],
      "metadata": {
        "colab": {
          "base_uri": "https://localhost:8080/",
          "height": 0
        },
        "id": "smQ7A6YILMPv",
        "outputId": "d180475d-4cd3-409c-d90f-543089d23206"
      },
      "execution_count": 15,
      "outputs": [
        {
          "output_type": "stream",
          "name": "stdout",
          "text": [
            "The modes of the array are: [4]\n"
          ]
        }
      ]
    },
    {
      "cell_type": "markdown",
      "source": [
        "#**Calculating Standard Deviation:**\n",
        "\n",
        "Standard Deviation is a measure of how spread out the numbers in a data set are. It tells you how far, on average, each value lies from the mean (average).\n",
        "\n"
      ],
      "metadata": {
        "id": "JNDhacjHNa41"
      }
    },
    {
      "cell_type": "code",
      "source": [
        "arr = [23, 45, 76, 56, 34, 96, 67, 90]\n",
        "\n",
        "# calculating average\n",
        "length = len(arr)\n",
        "sum = 0\n",
        "for nums in arr:\n",
        "  sum += nums\n",
        "avg = sum/length\n",
        "\n",
        "# calculating square of indivisual deviations\n",
        "squared_diffs = []\n",
        "for x in data:\n",
        "    diff = x - avg\n",
        "    squared = diff ** 2\n",
        "    squared_diffs.append(squared)\n",
        "\n",
        "# calculating sum of all squared indivisual deviations\n",
        "sum_total = 0\n",
        "for elements in squared_diffs:\n",
        "  sum_total += elements\n",
        "\n",
        "# calculating varience\n",
        "variance = sum_total/length\n",
        "\n",
        "# calculating std. deviation\n",
        "std_deviation =(variance) ** 0.5\n",
        "\n",
        "print(f\"The standard deviation of the elements of the array is : {round(std_deviation , 3)}\")\n",
        "\n",
        "\n"
      ],
      "metadata": {
        "colab": {
          "base_uri": "https://localhost:8080/",
          "height": 0
        },
        "id": "kVVqZswBQA8Q",
        "outputId": "6c75eb03-7aaa-4067-fc0b-21ad867188b1"
      },
      "execution_count": 24,
      "outputs": [
        {
          "output_type": "stream",
          "name": "stdout",
          "text": [
            "The standard deviation of the elements of the array is : 33.619\n"
          ]
        }
      ]
    }
  ]
}